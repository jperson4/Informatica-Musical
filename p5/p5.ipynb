{
 "cells": [
  {
   "cell_type": "code",
   "execution_count": 1,
   "metadata": {},
   "outputs": [],
   "source": [
    "\n",
    "import sounddevice as sd\n",
    "import numpy as np\n",
    "import matplotlib.pyplot as plt\n",
    "from tkinter import *\n",
    "from tkinter import ttk\n",
    "import time\n",
    "from copy import deepcopy\n",
    "import mido\n",
    "\n",
    "\n",
    "from synt.function import *\n",
    "from synt.const import *\n",
    "from synt.synt import *\n",
    "from synt.osc import *\n",
    "\n",
    "from synt.envolv import *\n",
    "from synt.effects import *\n",
    "from synt.instrumento import *\n",
    "from synt.mixer import *\n",
    "\n",
    "import os"
   ]
  },
  {
   "cell_type": "code",
   "execution_count": 2,
   "metadata": {},
   "outputs": [],
   "source": [
    "'''MOSTAR ONDAS COPIANDOLAS PARA QUE NO SE ALTERE EL FRAME'''\n",
    "from copy import copy\n",
    "def showOsc(osc, time, chunks=False):\n",
    "    _osc = copy(osc)\n",
    "    signal = np.zeros(0)\n",
    "    _chunks = int(time*(SRATE+CHUNK)/CHUNK)\n",
    "    if chunks:\n",
    "        _chunks = time\n",
    "    for i in range(_chunks):\n",
    "        signal = np.concatenate((signal, _osc.next()))\n",
    "    plt.plot(signal)"
   ]
  },
  {
   "cell_type": "code",
   "execution_count": 3,
   "metadata": {},
   "outputs": [],
   "source": [
    "'''REPRODUCTOR'''\n",
    "input = None\n",
    "\n",
    "def callback(outdata, frames, time, status):\n",
    "    global input\n",
    "    # print('entro')\n",
    "    if input is not None:\n",
    "        bloque = input.next()\n",
    "        # convertimos formato (CHUNK,) a (CHUNK,1) para que adecuarlo a sounddevice\n",
    "        outdata[:] = bloque.reshape(-1, 1)\n",
    "    else:\n",
    "        # si no hay datos, reproducimos silencio\n",
    "        outdata[:] = np.zeros((CHUNK, 1))\n",
    "\n",
    "\n",
    "# stream de salida con callBack\n",
    "stream = sd.OutputStream(samplerate=SRATE, channels=2, callback=callback, blocksize=CHUNK)\n",
    "stream.start()"
   ]
  },
  {
   "cell_type": "code",
   "execution_count": 4,
   "metadata": {},
   "outputs": [
    {
     "data": {
      "text/plain": [
       "0"
      ]
     },
     "execution_count": 4,
     "metadata": {},
     "output_type": "execute_result"
    }
   ],
   "source": [
    "os.system('xset r off')\n"
   ]
  },
  {
   "cell_type": "code",
   "execution_count": 5,
   "metadata": {},
   "outputs": [
    {
     "ename": "Exception",
     "evalue": "Para de ejecutar!!",
     "output_type": "error",
     "traceback": [
      "\u001b[0;31m---------------------------------------------------------------------------\u001b[0m",
      "\u001b[0;31mException\u001b[0m                                 Traceback (most recent call last)",
      "Cell \u001b[0;32mIn[5], line 1\u001b[0m\n\u001b[0;32m----> 1\u001b[0m \u001b[38;5;28;01mraise\u001b[39;00m \u001b[38;5;167;01mException\u001b[39;00m(\u001b[38;5;124m\"\u001b[39m\u001b[38;5;124mPara de ejecutar!!\u001b[39m\u001b[38;5;124m\"\u001b[39m) \u001b[38;5;66;03m#(comentar para ejecutar todo de una)\u001b[39;00m\n",
      "\u001b[0;31mException\u001b[0m: Para de ejecutar!!"
     ]
    }
   ],
   "source": [
    "raise Exception(\"Para de ejecutar!!\") #(comentar para ejecutar todo de una)"
   ]
  },
  {
   "cell_type": "code",
   "execution_count": 6,
   "metadata": {},
   "outputs": [
    {
     "name": "stderr",
     "output_type": "stream",
     "text": [
      "ALSA lib pcm.c:8772:(snd_pcm_recover) underrun occurred\n"
     ]
    }
   ],
   "source": [
    "root = Tk()\n",
    "tk = LabelFrame(root, text=\"Prueba\", bg=\"#808090\")\n",
    "\n",
    "text = Text(tk,height=4,width=40)\n",
    "text.pack(side=BOTTOM)\n",
    "\n",
    "tk.pack(side=LEFT)\n",
    "\n",
    "slider=Scale(tk, from_=10, to=100, resolution=1., orient=HORIZONTAL, label=\"silder\", length=100)\n",
    "slider.set(55)\n",
    "slider.pack()\n",
    "\n",
    "root.mainloop()\n"
   ]
  },
  {
   "cell_type": "code",
   "execution_count": 6,
   "metadata": {},
   "outputs": [],
   "source": [
    "\n",
    "root = Tk()\n",
    "tk = LabelFrame(root, text=\"Prueba\", bg=\"#808090\")\n",
    "\n",
    "# c = C(440, nombre=\"Const\", tk=tk, show=True)\n",
    "# c.doShow()\n",
    "amp = Sine(C(30, show=True), \n",
    "           min=C(0, show=True), \n",
    "           max=C(1, show=True), \n",
    "           \n",
    "           show=True)\n",
    "\n",
    "phase=Sine(C(880, show=True), \n",
    "           max=C(1, show=True),\n",
    "           min=C(0, show=True),\n",
    "           show=True \n",
    "           ) \n",
    "\n",
    "s = Sine(\n",
    "    C(440, show=True), \n",
    "    amp=amp,\n",
    "    phase=phase,\n",
    "    nombre=\"Seno\", \n",
    "    show=True)\n",
    "# s.doShow(tk)\n",
    "\n",
    "synt = Synt(freq=C(550), onda=s, amp=C(1), show=True, nombre=\"Synt\")\n",
    "\n",
    "synt.doShow(tk)\n",
    "tk.pack(side=LEFT)\n",
    "# root.pack(side=TOP)\n",
    "input = synt\n",
    "root.mainloop()\n",
    "input = None\n"
   ]
  },
  {
   "cell_type": "code",
   "execution_count": 8,
   "metadata": {},
   "outputs": [
    {
     "name": "stdout",
     "output_type": "stream",
     "text": [
      "1.0\n",
      "noteOn 48\n",
      "523.2511306011972\n",
      "noteOn 52\n",
      "659.2551138257398\n",
      "noteOff 52\n",
      "off\n",
      "noteOn 52\n",
      "659.2551138257398\n",
      "noteOff 52\n",
      "off\n",
      "noteOn 52\n",
      "659.2551138257398\n",
      "noteOff 52\n",
      "off\n",
      "noteOn 52\n",
      "659.2551138257398\n",
      "noteOff 52\n",
      "noteOn 52\n",
      "659.2551138257398\n",
      "noteOff 52\n",
      "noteOn 52\n",
      "659.2551138257398\n",
      "noteOff 52\n",
      "noteOn 55\n",
      "783.9908719634985\n",
      "noteOff 55\n",
      "off\n",
      "noteOn 55\n",
      "783.9908719634985\n",
      "noteOff 55\n",
      "noteOn 52\n",
      "659.2551138257398\n",
      "noteOff 52\n",
      "off\n",
      "noteOn 59\n",
      "987.7666025122483\n",
      "off\n",
      "noteOff 48\n",
      "noteOff 59\n",
      "off\n",
      "off\n"
     ]
    }
   ],
   "source": [
    "\n",
    "root = Tk()\n",
    "tk = LabelFrame(root, text=\"Prueba\", bg=\"#808090\")\n",
    "\n",
    "# c = C(440, nombre=\"Const\", tk=tk, show=True)\n",
    "# c.doShow()\n",
    "amp = Sine(C(30, show=True), \n",
    "           min=C(0), \n",
    "           max=C(1, show=True), \n",
    "           show=True)\n",
    "\n",
    "phase=Sine(C(880, show=True), \n",
    "           max=C(1, show=True),\n",
    "           min=C(0, show=True),\n",
    "           show=True \n",
    "           ) \n",
    "\n",
    "s = Sine(\n",
    "    C(1), \n",
    "    amp=amp,\n",
    "    phase=phase,\n",
    "    # nombre=\"Seno\", \n",
    "    show=True\n",
    "    )\n",
    "\n",
    "s1 = Sine(\n",
    "    C(440), \n",
    "    amp=deepcopy(amp),\n",
    "    phase=deepcopy(phase),\n",
    "    # nombre=\"Seno\", \n",
    "    show=True\n",
    "    )\n",
    "\n",
    "s2 = Sine(\n",
    "    C(440), \n",
    "    # amp=amp,\n",
    "    phase=deepcopy(phase),\n",
    "    # nombre=\"Seno\", \n",
    "    show=True\n",
    "    )\n",
    "# s.doShow(tk)\n",
    "\n",
    "tk.pack(side=LEFT)\n",
    "\n",
    "a = C(1, show=True, nombre=\"general\")\n",
    "# a.doShow(tk)\n",
    "\n",
    "# synt = Synt(C(1), s, amp=a, show=True, nombre=\"Synt\")\n",
    "synt = HarmSynt(C(1), [C(1), C(1 + 2.1/12), C(1 + 4.2/12)], [s, s1, s2], show=True)\n",
    "env = EnvInstrumento(.2, .1, .7, 1, show=True)\n",
    "\n",
    "inst = Instrumento(synt, env) # cutre\n",
    "inst.doShow(tk)\n",
    "# root.pack(side=TOP)\n",
    "input = inst\n",
    "# input=Echo(inst, 0.5, 0.2)\n",
    "root.mainloop()\n",
    "input = None\n"
   ]
  },
  {
   "cell_type": "code",
   "execution_count": 7,
   "metadata": {},
   "outputs": [
    {
     "data": {
      "image/png": "[encoded data removed]",
      "text/plain": [
       "<Figure size 640x480 with 1 Axes>"
      ]
     },
     "metadata": {},
     "output_type": "display_data"
    }
   ],
   "source": [
    "\n",
    "freq = C(440)\n",
    "# s1 = Rep(freq, XP(valor=freq, pow=C(4)) * C(2) - C(1))\n",
    "# s2 = Rep(freq, XP(valor=freq, pow=C(1/4)) * C(2) - C(1))\n",
    "# s2 = Rep(C(440), XP(valor=C(440), pow=C(2)) * C(2) - C(1), phase=Sine(C(440)))\n",
    "s3 = Sawtooth(freq, phase=C(np.pi/2))\n",
    "# showOsc(s1, 1, True)\n",
    "# showOsc(s2, 1, True)\n",
    "showOsc(s3, 1, True)\n",
    "input = s3"
   ]
  },
  {
   "cell_type": "code",
   "execution_count": 3,
   "metadata": {},
   "outputs": [],
   "source": [
    "input = None"
   ]
  },
  {
   "cell_type": "code",
   "execution_count": null,
   "metadata": {},
   "outputs": [],
   "source": []
  }
 ],
 "metadata": {
  "kernelspec": {
   "display_name": "MUS",
   "language": "python",
   "name": "python3"
  },
  "language_info": {
   "codemirror_mode": {
    "name": "ipython",
    "version": 3
   },
   "file_extension": ".py",
   "mimetype": "text/x-python",
   "name": "python",
   "nbconvert_exporter": "python",
   "pygments_lexer": "ipython3",
   "version": "3.13.1"
  }
 },
 "nbformat": 4,
 "nbformat_minor": 2
}
