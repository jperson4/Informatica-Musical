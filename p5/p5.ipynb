{
 "cells": [
  {
   "cell_type": "code",
   "execution_count": 1,
   "metadata": {},
   "outputs": [],
   "source": [
    "\n",
    "import sounddevice as sd\n",
    "import numpy as np\n",
    "import matplotlib.pyplot as plt\n",
    "from tkinter import *\n",
    "from tkinter import ttk\n",
    "import time\n",
    "from copy import deepcopy\n",
    "import mido\n",
    "\n",
    "\n",
    "from synt.function import *\n",
    "from synt.const import *\n",
    "from synt.synt import *\n",
    "from synt.osc import *\n",
    "\n",
    "from synt.envolv import *\n",
    "from synt.effects import *\n",
    "from synt.instrumento import *\n",
    "from synt.mixer import *\n",
    "from synt.midisequencer import *\n",
    "\n",
    "import os\n",
    "import librosa"
   ]
  },
  {
   "cell_type": "code",
   "execution_count": 2,
   "metadata": {},
   "outputs": [],
   "source": [
    "'''MOSTAR ONDAS COPIANDOLAS PARA QUE NO SE ALTERE EL FRAME'''\n",
    "from copy import deepcopy\n",
    "def showOsc(osc, time, chunks=False):\n",
    "    _osc = deepcopy(osc)\n",
    "    signal = np.zeros(0)\n",
    "    _chunks = int(time*(SRATE+CHUNK)/CHUNK)\n",
    "    if chunks:\n",
    "        _chunks = time\n",
    "    for i in range(_chunks):\n",
    "        signal = np.concatenate((signal, _osc.next()))\n",
    "    plt.plot(signal)"
   ]
  },
  {
   "cell_type": "code",
   "execution_count": 3,
   "metadata": {},
   "outputs": [],
   "source": [
    "'''REPRODUCTOR'''\n",
    "input = None\n",
    "\n",
    "def callback(outdata, frames, time, status):\n",
    "    global input\n",
    "    # print('entro')\n",
    "    if input is not None:\n",
    "        bloque = input.next()\n",
    "        # convertimos formato (CHUNK,) a (CHUNK,1) para que adecuarlo a sounddevice\n",
    "        outdata[:] = bloque.reshape(-1, 1)\n",
    "    else:\n",
    "        # si no hay datos, reproducimos silencio\n",
    "        outdata[:] = np.zeros((CHUNK, 1))\n",
    "\n",
    "\n",
    "# stream de salida con callBack\n",
    "stream = sd.OutputStream(samplerate=SRATE, channels=2, callback=callback, blocksize=CHUNK)\n",
    "stream.start()"
   ]
  },
  {
   "cell_type": "code",
   "execution_count": 4,
   "metadata": {},
   "outputs": [
    {
     "data": {
      "text/plain": [
       "0"
      ]
     },
     "execution_count": 4,
     "metadata": {},
     "output_type": "execute_result"
    }
   ],
   "source": [
    "os.system('xset r off')\n"
   ]
  },
  {
   "cell_type": "code",
   "execution_count": 5,
   "metadata": {},
   "outputs": [
    {
     "ename": "Exception",
     "evalue": "Para de ejecutar!!",
     "output_type": "error",
     "traceback": [
      "\u001b[31m---------------------------------------------------------------------------\u001b[39m",
      "\u001b[31mException\u001b[39m                                 Traceback (most recent call last)",
      "\u001b[36mCell\u001b[39m\u001b[36m \u001b[39m\u001b[32mIn[5]\u001b[39m\u001b[32m, line 1\u001b[39m\n\u001b[32m----> \u001b[39m\u001b[32m1\u001b[39m \u001b[38;5;28;01mraise\u001b[39;00m \u001b[38;5;167;01mException\u001b[39;00m(\u001b[33m\"\u001b[39m\u001b[33mPara de ejecutar!!\u001b[39m\u001b[33m\"\u001b[39m) \u001b[38;5;66;03m#(comentar para ejecutar todo de una)\u001b[39;00m\n",
      "\u001b[31mException\u001b[39m: Para de ejecutar!!"
     ]
    }
   ],
   "source": [
    "raise Exception(\"Para de ejecutar!!\") #(comentar para ejecutar todo de una)"
   ]
  },
  {
   "cell_type": "code",
   "execution_count": 6,
   "metadata": {},
   "outputs": [
    {
     "name": "stderr",
     "output_type": "stream",
     "text": [
      "ALSA lib pcm.c:8772:(snd_pcm_recover) underrun occurred\n"
     ]
    }
   ],
   "source": [
    "root = Tk()\n",
    "tk = LabelFrame(root, text=\"Prueba\", bg=\"#808090\")\n",
    "\n",
    "text = Text(tk,height=4,width=40)\n",
    "text.pack(side=BOTTOM)\n",
    "\n",
    "tk.pack(side=LEFT)\n",
    "\n",
    "slider=Scale(tk, from_=10, to=100, resolution=1., orient=HORIZONTAL, label=\"silder\", length=100)\n",
    "slider.set(55)\n",
    "slider.pack()\n",
    "\n",
    "root.mainloop()\n"
   ]
  },
  {
   "cell_type": "code",
   "execution_count": 8,
   "metadata": {},
   "outputs": [],
   "source": [
    "\n",
    "root = Tk()\n",
    "tk = LabelFrame(root, text=\"Prueba\", bg=\"#808090\")\n",
    "\n",
    "# c = C(440, nombre=\"Const\", tk=tk, show=True)\n",
    "# c.doShow()\n",
    "amp = Sine(C(30, show=False), \n",
    "           min=C(0, show=True), \n",
    "           max=C(1, show=True), \n",
    "           show=True)\n",
    "\n",
    "phase=Sine(C(880, show=True), \n",
    "           max=C(1, show=True),\n",
    "           min=C(0, show=True),\n",
    "           show=True \n",
    "           ) \n",
    "\n",
    "s = Sine(\n",
    "    C(440, show=True), \n",
    "    amp=amp,\n",
    "    phase=phase,\n",
    "    nombre=\"Seno\", \n",
    "    show=True)\n",
    "# s.doShow(tk)\n",
    "\n",
    "synt = Synt(freq=C(550, show=True), onda=s, amp=C(1), show=True, nombre=\"Synt\")\n",
    "\n",
    "synt.doShow(tk)\n",
    "tk.pack(side=LEFT)\n",
    "# root.pack(side=TOP)\n",
    "input = synt\n",
    "root.mainloop()\n",
    "input = None\n"
   ]
  },
  {
   "cell_type": "code",
   "execution_count": 10,
   "metadata": {},
   "outputs": [
    {
     "name": "stdout",
     "output_type": "stream",
     "text": [
      "noteOn 48 (523.2511306011972Hz)\n",
      "noteOff 48 (523.2511306011972Hz)\n",
      "off\n",
      "noteOn 50 (587.3295358348151Hz)\n",
      "noteOff 50 (587.3295358348151Hz)\n",
      "off\n",
      "noteOn 52 (659.2551138257398Hz)\n",
      "noteOff 52 (659.2551138257398Hz)\n",
      "off\n",
      "noteOn 52 (659.2551138257398Hz)\n",
      "noteOff 52 (659.2551138257398Hz)\n",
      "off\n",
      "noteOn 52 (659.2551138257398Hz)\n",
      "noteOff 52 (659.2551138257398Hz)\n",
      "off\n",
      "noteOn 53 (698.4564628660078Hz)\n",
      "noteOff 53 (698.4564628660078Hz)\n",
      "off\n",
      "noteOn 48 (523.2511306011972Hz)\n",
      "noteOff 48 (523.2511306011972Hz)\n",
      "off\n",
      "noteOn 53 (698.4564628660078Hz)\n",
      "noteOff 53 (698.4564628660078Hz)\n",
      "off\n",
      "noteOn 53 (698.4564628660078Hz)\n",
      "noteOff 53 (698.4564628660078Hz)\n",
      "off\n",
      "noteOn 48 (523.2511306011972Hz)\n",
      "noteOff 48 (523.2511306011972Hz)\n",
      "noteOn 52 (659.2551138257398Hz)\n",
      "off\n",
      "noteOff 52 (659.2551138257398Hz)\n",
      "noteOn 52 (659.2551138257398Hz)\n",
      "off\n",
      "noteOff 52 (659.2551138257398Hz)\n",
      "off\n",
      "noteOn 48 (523.2511306011972Hz)\n",
      "noteOff 48 (523.2511306011972Hz)\n",
      "off\n",
      "noteOn 50 (587.3295358348151Hz)\n",
      "noteOff 50 (587.3295358348151Hz)\n",
      "noteOn 52 (659.2551138257398Hz)\n",
      "noteOff 52 (659.2551138257398Hz)\n",
      "noteOn 53 (698.4564628660078Hz)\n",
      "noteOff 53 (698.4564628660078Hz)\n",
      "off\n",
      "off\n",
      "off\n",
      "noteOn 52 (659.2551138257398Hz)\n",
      "noteOn 48 (523.2511306011972Hz)\n",
      "noteOn 55 (783.9908719634985Hz)\n",
      "noteOff 55 (783.9908719634985Hz)\n",
      "noteOff 52 (659.2551138257398Hz)\n",
      "noteOff 48 (523.2511306011972Hz)\n",
      "off\n",
      "off\n",
      "off\n",
      "noteOn 48 (523.2511306011972Hz)\n",
      "noteOn 52 (659.2551138257398Hz)\n",
      "noteOff 52 (659.2551138257398Hz)\n",
      "noteOff 48 (523.2511306011972Hz)\n",
      "off\n",
      "off\n",
      "noteOn 48 (523.2511306011972Hz)\n",
      "noteOn 50 (587.3295358348151Hz)\n",
      "noteOff 48 (523.2511306011972Hz)\n",
      "noteOff 50 (587.3295358348151Hz)\n",
      "noteOn 48 (523.2511306011972Hz)\n",
      "noteOn 52 (659.2551138257398Hz)\n",
      "off\n",
      "noteOff 52 (659.2551138257398Hz)\n",
      "noteOff 48 (523.2511306011972Hz)\n",
      "noteOn 48 (523.2511306011972Hz)\n",
      "noteOff 48 (523.2511306011972Hz)\n",
      "noteOn 50 (587.3295358348151Hz)\n",
      "noteOff 50 (587.3295358348151Hz)\n",
      "off\n",
      "off\n",
      "noteOn 62 (1174.6590716696303Hz)\n",
      "off\n",
      "noteOff 62 (1174.6590716696303Hz)\n",
      "noteOn 64 (1318.5102276514797Hz)\n",
      "noteOff 64 (1318.5102276514797Hz)\n",
      "noteOn 65 (1396.9129257320155Hz)\n",
      "noteOff 65 (1396.9129257320155Hz)\n",
      "off\n",
      "noteOn 67 (1567.981743926997Hz)\n",
      "noteOff 67 (1567.981743926997Hz)\n",
      "off\n",
      "noteOn 69 (1760.0Hz)\n",
      "noteOff 69 (1760.0Hz)\n",
      "off\n",
      "off\n",
      "off\n",
      "noteOn 71 (1975.5332050244965Hz)\n",
      "noteOff 71 (1975.5332050244965Hz)\n",
      "off\n",
      "noteOn 71 (1975.5332050244965Hz)\n",
      "noteOff 71 (1975.5332050244965Hz)\n",
      "noteOn 69 (1760.0Hz)\n",
      "noteOff 69 (1760.0Hz)\n",
      "noteOn 69 (1760.0Hz)\n",
      "off\n",
      "noteOff 69 (1760.0Hz)\n",
      "noteOn 65 (1396.9129257320155Hz)\n",
      "noteOff 65 (1396.9129257320155Hz)\n",
      "noteOn 67 (1567.981743926997Hz)\n",
      "noteOff 67 (1567.981743926997Hz)\n",
      "off\n",
      "noteOn 60 (1046.5022612023945Hz)\n",
      "noteOff 60 (1046.5022612023945Hz)\n",
      "off\n",
      "off\n",
      "noteOn 67 (1567.981743926997Hz)\n",
      "off\n",
      "noteOff 67 (1567.981743926997Hz)\n",
      "off\n",
      "noteOn 60 (1046.5022612023945Hz)\n",
      "noteOn 64 (1318.5102276514797Hz)\n",
      "noteOn 67 (1567.981743926997Hz)\n",
      "noteOff 60 (1046.5022612023945Hz)\n",
      "noteOff 67 (1567.981743926997Hz)\n",
      "noteOff 64 (1318.5102276514797Hz)\n",
      "noteOn 60 (1046.5022612023945Hz)\n",
      "noteOn 67 (1567.981743926997Hz)\n",
      "noteOn 64 (1318.5102276514797Hz)\n",
      "noteOff 67 (1567.981743926997Hz)\n",
      "noteOff 60 (1046.5022612023945Hz)\n",
      "noteOff 64 (1318.5102276514797Hz)\n",
      "noteOn 60 (1046.5022612023945Hz)\n",
      "noteOn 64 (1318.5102276514797Hz)\n",
      "noteOn 67 (1567.981743926997Hz)\n",
      "noteOff 67 (1567.981743926997Hz)\n",
      "noteOff 60 (1046.5022612023945Hz)\n",
      "noteOff 64 (1318.5102276514797Hz)\n",
      "noteOn 67 (1567.981743926997Hz)\n",
      "noteOff 67 (1567.981743926997Hz)\n",
      "noteOn 60 (1046.5022612023945Hz)\n",
      "noteOff 60 (1046.5022612023945Hz)\n",
      "off\n",
      "noteOn 64 (1318.5102276514797Hz)\n",
      "noteOff 64 (1318.5102276514797Hz)\n",
      "noteOn 67 (1567.981743926997Hz)\n",
      "noteOff 67 (1567.981743926997Hz)\n",
      "noteOn 67 (1567.981743926997Hz)\n",
      "off\n",
      "noteOff 67 (1567.981743926997Hz)\n",
      "off\n",
      "off\n",
      "noteOn 48 (523.2511306011972Hz)\n",
      "noteOff 48 (523.2511306011972Hz)\n",
      "noteOn 50 (587.3295358348151Hz)\n",
      "noteOff 50 (587.3295358348151Hz)\n",
      "noteOn 50 (587.3295358348151Hz)\n",
      "off\n",
      "noteOff 50 (587.3295358348151Hz)\n",
      "off\n",
      "noteOn 48 (523.2511306011972Hz)\n",
      "noteOff 48 (523.2511306011972Hz)\n",
      "noteOn 48 (523.2511306011972Hz)\n",
      "noteOff 48 (523.2511306011972Hz)\n",
      "noteOn 48 (523.2511306011972Hz)\n",
      "noteOff 48 (523.2511306011972Hz)\n",
      "noteOn 48 (523.2511306011972Hz)\n",
      "noteOff 48 (523.2511306011972Hz)\n",
      "off\n",
      "noteOn 48 (523.2511306011972Hz)\n",
      "noteOn 50 (587.3295358348151Hz)\n",
      "noteOff 48 (523.2511306011972Hz)\n",
      "noteOff 50 (587.3295358348151Hz)\n",
      "noteOn 52 (659.2551138257398Hz)\n",
      "off\n",
      "off\n",
      "noteOn 48 (523.2511306011972Hz)\n",
      "noteOff 52 (659.2551138257398Hz)\n",
      "noteOff 48 (523.2511306011972Hz)\n",
      "off\n",
      "off\n",
      "noteOn 48 (523.2511306011972Hz)\n",
      "noteOff 48 (523.2511306011972Hz)\n",
      "off\n",
      "noteOn 48 (523.2511306011972Hz)\n",
      "noteOff 48 (523.2511306011972Hz)\n",
      "noteOn 50 (587.3295358348151Hz)\n",
      "noteOff 50 (587.3295358348151Hz)\n",
      "noteOn 62 (1174.6590716696303Hz)\n",
      "off\n",
      "noteOff 62 (1174.6590716696303Hz)\n",
      "off\n",
      "off\n",
      "noteOn 62 (1174.6590716696303Hz)\n",
      "noteOff 62 (1174.6590716696303Hz)\n",
      "noteOn 64 (1318.5102276514797Hz)\n",
      "noteOff 64 (1318.5102276514797Hz)\n",
      "noteOn 65 (1396.9129257320155Hz)\n",
      "noteOff 65 (1396.9129257320155Hz)\n",
      "off\n",
      "off\n",
      "off\n"
     ]
    },
    {
     "data": {
      "image/png": "[encoded data removed]",
      "text/plain": [
       "<Figure size 640x480 with 1 Axes>"
      ]
     },
     "metadata": {},
     "output_type": "display_data"
    }
   ],
   "source": [
    "\n",
    "root = Tk()\n",
    "tk = LabelFrame(root, text=\"Prueba\", bg=\"#808090\")\n",
    "\n",
    "# c = C(440, nombre=\"Const\", tk=tk, show=True)\n",
    "# c.doShow()\n",
    "amp = Sine(C(30, show=True), \n",
    "           min=C(0), \n",
    "           max=C(1, show=True), \n",
    "           show=True)\n",
    "\n",
    "phase=Sine(C(880, show=True), \n",
    "           max=C(1, show=True),\n",
    "           min=C(0, show=True),\n",
    "           show=True \n",
    "           ) \n",
    "\n",
    "s = Sine(\n",
    "    C(1), \n",
    "    amp=amp,\n",
    "    phase=phase,\n",
    "    # nombre=\"Seno\", \n",
    "    show=True\n",
    "    )\n",
    "\n",
    "s1 = Sine(\n",
    "    C(440), \n",
    "    amp=deepcopy(amp),\n",
    "    phase=deepcopy(phase),\n",
    "    # nombre=\"Seno\", \n",
    "    show=True\n",
    "    )\n",
    "\n",
    "s2 = Sine(\n",
    "    C(440), \n",
    "    amp=deepcopy(amp),\n",
    "    phase=deepcopy(phase),\n",
    "    # nombre=\"Seno\", \n",
    "    show=True\n",
    "    )\n",
    "\n",
    "# freq = Sine(C(4), \n",
    "#             max=C(440, show=True), \n",
    "#             min=C(220, show=True),\n",
    "#             show=True) \n",
    "\n",
    "# s1 = Rep(freq, XP(valor=freq, exp=C(4)) * C(2) - C(1))\n",
    "# s.doShow(tk)\n",
    "\n",
    "freq = Sine(C(5000) / X(avoid0=True), \n",
    "            max=C(440, show=True), \n",
    "            min=C(220, show=True),\n",
    "            show=True)\n",
    "\n",
    "# s1 = Rep(freq, XP(valor=freq, exp=C(4)) * C(2) - C(1), show=True)\n",
    "\n",
    "tk.pack(side=LEFT)\n",
    "\n",
    "a = C(1, show=True, nombre=\"general\")\n",
    "# a.doShow(tk)\n",
    "\n",
    "# synt = Synt(C(1), s, amp=a, show=True, nombre=\"Synt\")\n",
    "synt = HarmSynt(C(1), [C(1/12, show=True), C(1*4/12, show=True), C(.5*8/12, show=True)], [s1, deepcopy(s1), deepcopy(s1)], show=True, fmix=tanh, amp=a)\n",
    "env = EnvInstrumento(.2, .1, .7, .2, show=True)\n",
    "\n",
    "inst = Instrumento(synt, env) # cutre\n",
    "inst.doShow(tk)\n",
    "# root.pack(side=TOP)\n",
    "# input = Mixer([inst], tanh)\n",
    "input = inst\n",
    "# input=Echo(inst, 0.5, 0.1)\n",
    "root.mainloop()\n",
    "input = None\n",
    "\n",
    "showOsc(synt, 10, True)\n"
   ]
  },
  {
   "cell_type": "markdown",
   "metadata": {},
   "source": [
    "Uso del sampler y el sampler cíclico"
   ]
  },
  {
   "cell_type": "code",
   "execution_count": 6,
   "metadata": {},
   "outputs": [
    {
     "name": "stderr",
     "output_type": "stream",
     "text": [
      "ALSA lib pcm.c:8772:(snd_pcm_recover) underrun occurred\n",
      "ALSA lib pcm.c:8772:(snd_pcm_recover) underrun occurred\n",
      "ALSA lib pcm.c:8772:(snd_pcm_recover) underrun occurred\n"
     ]
    },
    {
     "data": {
      "image/png": "[encoded data removed]",
      "text/plain": [
       "<Figure size 640x480 with 1 Axes>"
      ]
     },
     "metadata": {},
     "output_type": "display_data"
    }
   ],
   "source": [
    "input = None\n",
    "a = C(1, show=True, nombre=\"general\")\n",
    "\n",
    "root = Tk()\n",
    "tk = LabelFrame(root, text=\"Prueba\", bg=\"#808090\")\n",
    "\n",
    "freq = Sine(C(5000) / X(avoid0=True), \n",
    "            max=C(440, show=True), \n",
    "            min=C(220, show=True),\n",
    "            show=True)\n",
    "\n",
    "s1 = Rep(freq, XP(valor=freq, exp=C(4)) * C(2) - C(1), show=True)\n",
    "# sol\n",
    "synt = HarmSynt(C(3322, show=True, to=5000, step=1), [C(1/12, show=True), C(1*4/12, show=True), C(.5*8/12, show=True)], [s1, deepcopy(s1), deepcopy(s1)], show=True, fmix=tanh, amp=a)\n",
    "# input = synt\n",
    "# synt.doShow(tk)\n",
    "# tk.pack()\n",
    "# root.mainloop()\n",
    "# showOsc(synt, CHUNK)\n",
    "\n",
    "onda = []\n",
    "for i in range(0, int(209*2)):\n",
    "    onda = np.concatenate((onda, synt.next()))\n",
    "# plt.plot(onda[:CHUNK])\n",
    "synt = HarmSynt(C(3322, show=True, to=5000, step=1), [C(1/12, show=True), C(1*4/12, show=True), C(.5*8/12, show=True)], [s1, deepcopy(s1), deepcopy(s1)], show=True, fmix=tanh, amp=a)\n",
    "rsamp = RSampler(C(3322), onda, og_freq=C(3322))\n",
    "samp = Sampler(C(3322), onda, C(3322))\n",
    "showOsc(rsamp, 1, True)\n",
    "showOsc(samp, 1, True)\n",
    "showOsc(synt, 1, True)\n",
    "input = rsamp\n"
   ]
  },
  {
   "cell_type": "code",
   "execution_count": 25,
   "metadata": {},
   "outputs": [],
   "source": [
    "input = None"
   ]
  },
  {
   "cell_type": "markdown",
   "metadata": {},
   "source": [
    "# MIAU\n",
    "    necesario usar python 3.12 o inferior (por librosa)"
   ]
  },
  {
   "cell_type": "code",
   "execution_count": 6,
   "metadata": {},
   "outputs": [
    {
     "name": "stderr",
     "output_type": "stream",
     "text": [
      "ALSA lib pcm.c:8772:(snd_pcm_recover) underrun occurred\n",
      "ALSA lib pcm.c:8772:(snd_pcm_recover) underrun occurred\n",
      "ALSA lib pcm.c:8772:(snd_pcm_recover) underrun occurred\n"
     ]
    },
    {
     "data": {
      "image/png": "[encoded data removed]",
      "text/plain": [
       "<Figure size 640x480 with 1 Axes>"
      ]
     },
     "metadata": {},
     "output_type": "display_data"
    }
   ],
   "source": [
    "data, sr = librosa.load(\"miau.wav\", sr=SRATE)\n",
    "data = data[2000:]\n",
    "plt.plot(data[:SRATE])\n",
    "# miau\n",
    "s = Sampler(C(880), data)\n",
    "input = s"
   ]
  },
  {
   "cell_type": "code",
   "execution_count": 19,
   "metadata": {},
   "outputs": [],
   "source": [
    "s = Sampler(C(880), data, C(3000))\n",
    "input = s"
   ]
  },
  {
   "cell_type": "code",
   "execution_count": 20,
   "metadata": {},
   "outputs": [
    {
     "name": "stderr",
     "output_type": "stream",
     "text": [
      "ALSA lib pcm.c:8772:(snd_pcm_recover) underrun occurred\n"
     ]
    },
    {
     "name": "stdout",
     "output_type": "stream",
     "text": [
      "noteOn 48 (523.2511306011972Hz)\n",
      "noteOff 48 (523.2511306011972Hz)\n",
      "noteOn 50 (587.3295358348151Hz)\n",
      "noteOff 50 (587.3295358348151Hz)\n",
      "noteOn 52 (659.2551138257398Hz)\n",
      "noteOff 52 (659.2551138257398Hz)\n",
      "off\n",
      "off\n",
      "off\n",
      "noteOn 59 (987.7666025122483Hz)\n",
      "noteOff 59 (987.7666025122483Hz)\n",
      "off\n",
      "noteOn 61 (1108.7305239074883Hz)\n",
      "noteOff 61 (1108.7305239074883Hz)\n",
      "noteOn 62 (1174.6590716696303Hz)\n",
      "noteOff 62 (1174.6590716696303Hz)\n",
      "off\n",
      "off\n",
      "noteOn 59 (987.7666025122483Hz)\n",
      "noteOff 59 (987.7666025122483Hz)\n",
      "off\n",
      "noteOn 48 (523.2511306011972Hz)\n",
      "noteOff 48 (523.2511306011972Hz)\n",
      "noteOn 50 (587.3295358348151Hz)\n",
      "noteOff 50 (587.3295358348151Hz)\n",
      "noteOn 52 (659.2551138257398Hz)\n",
      "noteOff 52 (659.2551138257398Hz)\n",
      "off\n",
      "off\n",
      "off\n",
      "noteOn 48 (261.6255653005986Hz)\n",
      "noteOff 48 (261.6255653005986Hz)\n",
      "noteOn 48 (261.6255653005986Hz)\n",
      "noteOff 48 (261.6255653005986Hz)\n",
      "noteOn 48 (261.6255653005986Hz)\n",
      "noteOff 48 (261.6255653005986Hz)\n",
      "noteOn 50 (293.6647679174076Hz)\n",
      "noteOff 50 (293.6647679174076Hz)\n",
      "noteOn 50 (293.6647679174076Hz)\n",
      "noteOff 50 (293.6647679174076Hz)\n",
      "noteOn 50 (293.6647679174076Hz)\n",
      "off\n",
      "noteOff 50 (293.6647679174076Hz)\n",
      "noteOn 52 (329.6275569128699Hz)\n",
      "off\n",
      "noteOff 52 (329.6275569128699Hz)\n",
      "off\n"
     ]
    }
   ],
   "source": [
    "# data = Sine(C(440)).next()\n",
    "s = Sampler(C(440), data, og_freq=C(880), samedur=False)\n",
    "s2 = Sampler(C(440), data, og_freq=C(880), samedur=True)\n",
    "\n",
    "# s = Sine(C(1))\n",
    "# gato en burbuja\n",
    "# synt = Synt(C(1), s, amp=Sine(C(30, show=True), min=C(0, show=True), max=C(1, show=True), show=True), show=True)\n",
    "\n",
    "#coro de gatos (suena un poco raro)\n",
    "# synt = HarmSynt(C(1), [C(1), C(3/2), C(9/8)], [s2])\n",
    "\n",
    "# gato\n",
    "synt = Synt(C(1), s, amp=C(1, show=True), show=True)\n",
    "\n",
    "\n",
    "env = EnvInstrumento(.0, 1, 1, .5, show=True)\n",
    "inst = Instrumento(synt, env) # cutre\n",
    "root = Tk()\n",
    "tk = LabelFrame(root, text=\"Prueba\", bg=\"#808090\")\n",
    "\n",
    "\n",
    "inst.doShow(tk)\n",
    "input = inst\n",
    "tk.pack(side=LEFT)\n",
    "root.mainloop()\n",
    "input=None\n",
    "# inst.noteOn(48)\n",
    "\n",
    "# plt.plot(np.concatenate((data, data, data, data, data)))\n",
    "# showOsc(inst, 5, True)\n"
   ]
  },
  {
   "cell_type": "code",
   "execution_count": 21,
   "metadata": {},
   "outputs": [
    {
     "name": "stdout",
     "output_type": "stream",
     "text": [
      "noteOn 48 (130.8127826502993Hz)\n",
      "noteOff 48 (130.8127826502993Hz)\n",
      "noteOn 50 (146.8323839587038Hz)\n",
      "noteOff 50 (146.8323839587038Hz)\n",
      "noteOn 52 (164.81377845643496Hz)\n",
      "noteOff 52 (164.81377845643496Hz)\n",
      "off\n",
      "noteOn 52 (164.81377845643496Hz)\n",
      "noteOff 52 (164.81377845643496Hz)\n",
      "off\n",
      "off\n",
      "noteOn 48 (523.2511306011972Hz)\n",
      "noteOff 48 (523.2511306011972Hz)\n",
      "noteOn 48 (523.2511306011972Hz)\n",
      "noteOff 48 (523.2511306011972Hz)\n",
      "noteOn 48 (523.2511306011972Hz)\n",
      "noteOff 48 (523.2511306011972Hz)\n",
      "noteOn 50 (587.3295358348151Hz)\n",
      "noteOff 50 (587.3295358348151Hz)\n",
      "noteOn 52 (659.2551138257398Hz)\n",
      "off\n",
      "off\n",
      "noteOff 52 (659.2551138257398Hz)\n",
      "off\n",
      "noteOn 48 (523.2511306011972Hz)\n",
      "noteOff 48 (523.2511306011972Hz)\n",
      "off\n",
      "noteOn 59 (987.7666025122483Hz)\n",
      "noteOff 59 (987.7666025122483Hz)\n",
      "off\n"
     ]
    }
   ],
   "source": [
    "input = None\n",
    "def callback(outdata, frames, time, status):    \n",
    "    if status: print(status)    \n",
    "    #print(inputs)\n",
    "    s = np.sum([i.next() for i in inputs],axis=0)\n",
    "    s = np.float32(s)\n",
    "    outdata[:] = s.reshape(-1, 1)\n",
    "\n",
    "# os.system('xset r off')\n",
    "tk = Tk()\n",
    "\n",
    "inst0 = Instrumento(Synt(C(1), Sine(C(1)), amp=C(1, show=True)), deepcopy(env))\n",
    "\n",
    "seq = MidiSequencerTk(tk,[inst, inst0])\n",
    "#print(seq.seq)\n",
    "inputs = [inst, inst0]\n",
    "\n",
    "stream = sd.OutputStream(samplerate=SRATE, channels=1, blocksize=CHUNK, callback=callback)\n",
    "stream.start()\n",
    "\n",
    "tk.mainloop()\n",
    "\n",
    "stream.close()"
   ]
  },
  {
   "cell_type": "markdown",
   "metadata": {},
   "source": [
    "# 2. SAMPLER CON ATK Y SUSTAIN"
   ]
  },
  {
   "cell_type": "code",
   "execution_count": 6,
   "metadata": {},
   "outputs": [
    {
     "name": "stderr",
     "output_type": "stream",
     "text": [
      "ALSA lib pcm.c:8772:(snd_pcm_recover) underrun occurred\n",
      "ALSA lib pcm.c:8772:(snd_pcm_recover) underrun occurred\n",
      "ALSA lib pcm.c:8772:(snd_pcm_recover) underrun occurred\n",
      "ALSA lib pcm.c:8772:(snd_pcm_recover) underrun occurred\n"
     ]
    },
    {
     "data": {
      "text/plain": [
       "[<matplotlib.lines.Line2D at 0x7c51446f1c10>]"
      ]
     },
     "execution_count": 6,
     "metadata": {},
     "output_type": "execute_result"
    },
    {
     "data": {
      "image/png": "[encoded data removed]",
      "text/plain": [
       "<Figure size 640x480 with 1 Axes>"
      ]
     },
     "metadata": {},
     "output_type": "display_data"
    }
   ],
   "source": [
    "data_atk, _ = librosa.load(\"miau_atk.wav\", sr=SRATE)\n",
    "data_rel, _ = librosa.load(\"miau_rel.wav\", sr=SRATE)\n",
    "data_sus, _ = librosa.load(\"miau_sus.wav\", sr=SRATE)\n",
    "plt.plot(data_sus)\n",
    "plt.plot(data_atk)\n",
    "plt.plot(data_rel)"
   ]
  },
  {
   "cell_type": "code",
   "execution_count": 7,
   "metadata": {},
   "outputs": [
    {
     "name": "stderr",
     "output_type": "stream",
     "text": [
      "ALSA lib pcm.c:8772:(snd_pcm_recover) underrun occurred\n"
     ]
    },
    {
     "name": "stdout",
     "output_type": "stream",
     "text": [
      "noteOn 48 (523.2511306011972Hz)\n",
      "noteOff 48 (523.2511306011972Hz)\n",
      "off\n",
      "noteOn 48 (523.2511306011972Hz)\n",
      "noteOff 48 (523.2511306011972Hz)\n",
      "noteOn 52 (659.2551138257398Hz)\n",
      "off\n",
      "noteOn 55 (783.9908719634985Hz)\n",
      "noteOff 55 (783.9908719634985Hz)\n",
      "noteOff 52 (659.2551138257398Hz)\n",
      "off\n",
      "off\n",
      "noteOn 59 (987.7666025122483Hz)\n",
      "noteOff 59 (987.7666025122483Hz)\n",
      "off\n",
      "noteOn 49 (554.3652619537442Hz)\n",
      "noteOff 49 (554.3652619537442Hz)\n",
      "noteOn 49 (554.3652619537442Hz)\n",
      "noteOff 49 (554.3652619537442Hz)\n",
      "off\n"
     ]
    }
   ],
   "source": [
    "input = None\n",
    "def callback(outdata, frames, time, status):    \n",
    "    if status: print(status)    \n",
    "    #print(inputs)\n",
    "    s = np.sum([i.next() for i in inputs],axis=0)\n",
    "    s = np.float32(s)\n",
    "    outdata[:] = s.reshape(-1, 1)\n",
    "\n",
    "os.system('xset r off')\n",
    "tk = Tk()\n",
    "\n",
    "# s_atk = Sampler(C(440), data_atk, og_freq=C(880), samedur=False)\n",
    "# s_sus = Sampler(C(440), data_sus, og_freq=C(880), samedur=False)\n",
    "# s_rel = Sampler(C(440), data_rel, og_freq=C(880), samedur=False)\n",
    "\n",
    "s = InstSampler(C(440), data_atk, C(880), data_sus, C(880), data_rel, C(880))\n",
    "\n",
    "# gato\n",
    "synt = Synt(C(1), s, amp=C(1, show=True), show=True)\n",
    "\n",
    "env = EnvInstrumento(.0, 1, 1, .5, show=True)\n",
    "inst = Instrumento(synt, env) # cutre\n",
    "\n",
    "seq = MidiSequencerTk(tk,[inst])\n",
    "#print(seq.seq)\n",
    "inputs = [inst]\n",
    "\n",
    "stream = sd.OutputStream(samplerate=SRATE, channels=1, blocksize=CHUNK, callback=callback)\n",
    "stream.start()\n",
    "\n",
    "tk.mainloop()\n",
    "\n",
    "stream.close()"
   ]
  },
  {
   "cell_type": "code",
   "execution_count": null,
   "metadata": {},
   "outputs": [],
   "source": [
    "\n",
    "# freq = C(440)\n",
    "\n",
    "freq = Sine(C(20000) / X(avoid0=True), \n",
    "            max=C(440, show=True), \n",
    "            min=C(220, show=True),\n",
    "            show=True)\n",
    "\n",
    "\n",
    "s1 = Rep(freq, XP(valor=freq, exp=C(4)) * C(2) - C(1))\n",
    "s2 = Rep(freq, XP(valor=freq, exp=C(1/4)) * C(3) - C(2))\n",
    "# s2 = Rep(C(440), XP(valor=C(440), pow=C(2)) * C(2) - C(1), phase=Sine(C(440)))\n",
    "s3 = Sawtooth(freq, phase=C(np.pi/2))\n",
    "showOsc(s1, 1, True)\n",
    "showOsc(s2, 1, True)\n",
    "showOsc(s3, 1, True)\n",
    "input = s1"
   ]
  },
  {
   "cell_type": "code",
   "execution_count": null,
   "metadata": {},
   "outputs": [],
   "source": [
    "freq = Sine(C(5000) / X(avoid0=True), \n",
    "            max=C(440, show=True), \n",
    "            min=C(220, show=True),\n",
    "            show=True)\n",
    "\n",
    "\n",
    "s1 = Rep(freq, XP(valor=freq, exp=C(4)) * C(2) - C(1))\n",
    "s = Mixer([s1], tanh)\n",
    "input = s\n",
    "showOsc(s, 1, chunks=True)"
   ]
  }
 ],
 "metadata": {
  "kernelspec": {
   "display_name": "MUS",
   "language": "python",
   "name": "python3"
  },
  "language_info": {
   "codemirror_mode": {
    "name": "ipython",
    "version": 3
   },
   "file_extension": ".py",
   "mimetype": "text/x-python",
   "name": "python",
   "nbconvert_exporter": "python",
   "pygments_lexer": "ipython3",
   "version": "3.12.9"
  }
 },
 "nbformat": 4,
 "nbformat_minor": 2
}
