{
 "cells": [
  {
   "cell_type": "code",
   "execution_count": 1,
   "metadata": {},
   "outputs": [],
   "source": [
    "\n",
    "import sounddevice as sd\n",
    "import numpy as np\n",
    "import matplotlib.pyplot as plt\n",
    "from tkinter import *\n",
    "from tkinter import ttk\n",
    "import time\n",
    "from copy import copy\n",
    "import mido\n",
    "\n",
    "\n",
    "from synt.function import *\n",
    "from synt.const import *\n",
    "from synt.synt import *\n",
    "from synt.osc import *\n",
    "\n",
    "from synt.envolv import *\n",
    "from synt.effects import *\n",
    "from synt.instrumento import *\n",
    "from synt.mixer import *\n",
    "\n",
    "import os"
   ]
  },
  {
   "cell_type": "code",
   "execution_count": 2,
   "metadata": {},
   "outputs": [],
   "source": [
    "'''MOSTAR ONDAS COPIANDOLAS PARA QUE NO SE ALTERE EL FRAME'''\n",
    "from copy import copy\n",
    "def showOsc(osc, time, chunks=False):\n",
    "    _osc = copy(osc)\n",
    "    signal = np.zeros(0)\n",
    "    _chunks = int(time*(SRATE+CHUNK)/CHUNK)\n",
    "    if chunks:\n",
    "        _chunks = time\n",
    "    for i in range(_chunks):\n",
    "        signal = np.concatenate((signal, _osc.next()))\n",
    "    plt.plot(signal)"
   ]
  },
  {
   "cell_type": "code",
   "execution_count": 3,
   "metadata": {},
   "outputs": [],
   "source": [
    "'''REPRODUCTOR'''\n",
    "input = None\n",
    "\n",
    "def callback(outdata, frames, time, status):\n",
    "    global input\n",
    "    # print('entro')\n",
    "    if input is not None:\n",
    "        bloque = input.next()\n",
    "        # convertimos formato (CHUNK,) a (CHUNK,1) para que adecuarlo a sounddevice\n",
    "        outdata[:] = bloque.reshape(-1, 1)\n",
    "    else:\n",
    "        # si no hay datos, reproducimos silencio\n",
    "        outdata[:] = np.zeros((CHUNK, 1))\n",
    "\n",
    "\n",
    "# stream de salida con callBack\n",
    "stream = sd.OutputStream(samplerate=SRATE, channels=2, callback=callback, blocksize=CHUNK)\n",
    "stream.start()"
   ]
  },
  {
   "cell_type": "code",
   "execution_count": 4,
   "metadata": {},
   "outputs": [
    {
     "ename": "Exception",
     "evalue": "Para de ejecutar!!",
     "output_type": "error",
     "traceback": [
      "\u001b[0;31m---------------------------------------------------------------------------\u001b[0m",
      "\u001b[0;31mException\u001b[0m                                 Traceback (most recent call last)",
      "Cell \u001b[0;32mIn[4], line 1\u001b[0m\n\u001b[0;32m----> 1\u001b[0m \u001b[38;5;28;01mraise\u001b[39;00m \u001b[38;5;167;01mException\u001b[39;00m(\u001b[38;5;124m\"\u001b[39m\u001b[38;5;124mPara de ejecutar!!\u001b[39m\u001b[38;5;124m\"\u001b[39m) \u001b[38;5;66;03m#(comentar para ejecutar todo de una)\u001b[39;00m\n",
      "\u001b[0;31mException\u001b[0m: Para de ejecutar!!"
     ]
    }
   ],
   "source": [
    "raise Exception(\"Para de ejecutar!!\") #(comentar para ejecutar todo de una)"
   ]
  },
  {
   "cell_type": "code",
   "execution_count": null,
   "metadata": {},
   "outputs": [],
   "source": [
    "root = Tk()\n",
    "tk = LabelFrame(root, text=\"Prueba\", bg=\"#808090\")\n",
    "\n",
    "text = Text(tk,height=4,width=40)\n",
    "text.pack(side=BOTTOM)\n",
    "\n",
    "tk.pack(side=LEFT)\n",
    "\n",
    "slider=Scale(tk, from_=10, to=100, resolution=1., orient=HORIZONTAL, label=\"silder\", length=100)\n",
    "slider.set(55)\n",
    "slider.pack()\n",
    "\n",
    "root.mainloop()\n"
   ]
  },
  {
   "cell_type": "code",
   "execution_count": 5,
   "metadata": {},
   "outputs": [
    {
     "name": "stderr",
     "output_type": "stream",
     "text": [
      "ALSA lib pcm.c:8772:(snd_pcm_recover) underrun occurred\n"
     ]
    },
    {
     "ename": "AttributeError",
     "evalue": "'int' object has no attribute 'doShow'",
     "output_type": "error",
     "traceback": [
      "\u001b[0;31m---------------------------------------------------------------------------\u001b[0m",
      "\u001b[0;31mAttributeError\u001b[0m                            Traceback (most recent call last)",
      "Cell \u001b[0;32mIn[5], line 11\u001b[0m\n\u001b[1;32m      6\u001b[0m amp \u001b[38;5;241m=\u001b[39m Sine(C(\u001b[38;5;241m30\u001b[39m, show\u001b[38;5;241m=\u001b[39m\u001b[38;5;28;01mTrue\u001b[39;00m), \n\u001b[1;32m      7\u001b[0m            \u001b[38;5;28mmin\u001b[39m\u001b[38;5;241m=\u001b[39mC(\u001b[38;5;241m0\u001b[39m), \n\u001b[1;32m      8\u001b[0m            \u001b[38;5;28mmax\u001b[39m\u001b[38;5;241m=\u001b[39mC(\u001b[38;5;241m1\u001b[39m, show\u001b[38;5;241m=\u001b[39m\u001b[38;5;28;01mTrue\u001b[39;00m), \n\u001b[1;32m      9\u001b[0m            show\u001b[38;5;241m=\u001b[39m\u001b[38;5;28;01mTrue\u001b[39;00m)\n\u001b[1;32m     10\u001b[0m s \u001b[38;5;241m=\u001b[39m Sine(C(\u001b[38;5;241m440\u001b[39m, show\u001b[38;5;241m=\u001b[39m\u001b[38;5;28;01mTrue\u001b[39;00m), amp\u001b[38;5;241m=\u001b[39mamp, nombre\u001b[38;5;241m=\u001b[39m\u001b[38;5;124m\"\u001b[39m\u001b[38;5;124mSeno\u001b[39m\u001b[38;5;124m\"\u001b[39m, show\u001b[38;5;241m=\u001b[39m\u001b[38;5;28;01mTrue\u001b[39;00m)\n\u001b[0;32m---> 11\u001b[0m \u001b[43ms\u001b[49m\u001b[38;5;241;43m.\u001b[39;49m\u001b[43mdoShow\u001b[49m\u001b[43m(\u001b[49m\u001b[43mtk\u001b[49m\u001b[43m)\u001b[49m\n\u001b[1;32m     13\u001b[0m tk\u001b[38;5;241m.\u001b[39mpack(side\u001b[38;5;241m=\u001b[39mLEFT)\n\u001b[1;32m     15\u001b[0m \u001b[38;5;66;03m# root.pack(side=TOP)\u001b[39;00m\n",
      "File \u001b[0;32m~/UNI/5/SEGUNDO_CUATRI/MUS/p5/synt/osc.py:38\u001b[0m, in \u001b[0;36mOsc.doShow\u001b[0;34m(self, tk)\u001b[0m\n\u001b[1;32m     36\u001b[0m \u001b[38;5;28mself\u001b[39m\u001b[38;5;241m.\u001b[39mfreq\u001b[38;5;241m.\u001b[39maddNombre(\u001b[38;5;124m\"\u001b[39m\u001b[38;5;124mfreq\u001b[39m\u001b[38;5;124m\"\u001b[39m)\n\u001b[1;32m     37\u001b[0m \u001b[38;5;66;03m# self.freq.addNombre(self.nombre)\u001b[39;00m\n\u001b[0;32m---> 38\u001b[0m \u001b[38;5;28;43mself\u001b[39;49m\u001b[38;5;241;43m.\u001b[39;49m\u001b[43mfreq\u001b[49m\u001b[38;5;241;43m.\u001b[39;49m\u001b[43mdoShow\u001b[49m\u001b[43m(\u001b[49m\u001b[43m_tk\u001b[49m\u001b[43m)\u001b[49m\n\u001b[1;32m     39\u001b[0m \u001b[38;5;28;01mif\u001b[39;00m \u001b[38;5;28mself\u001b[39m\u001b[38;5;241m.\u001b[39mamp \u001b[38;5;129;01mis\u001b[39;00m \u001b[38;5;129;01mnot\u001b[39;00m \u001b[38;5;28;01mNone\u001b[39;00m:\n\u001b[1;32m     40\u001b[0m     \u001b[38;5;28mself\u001b[39m\u001b[38;5;241m.\u001b[39mamp\u001b[38;5;241m.\u001b[39maddNombre(\u001b[38;5;124m\"\u001b[39m\u001b[38;5;124mamp\u001b[39m\u001b[38;5;124m\"\u001b[39m)\n",
      "File \u001b[0;32m~/UNI/5/SEGUNDO_CUATRI/MUS/p5/synt/function.py:182\u001b[0m, in \u001b[0;36mConst.doShow\u001b[0;34m(self, tk)\u001b[0m\n\u001b[1;32m    179\u001b[0m slider\u001b[38;5;241m.\u001b[39mpack(side\u001b[38;5;241m=\u001b[39mLEFT)\n\u001b[1;32m    181\u001b[0m _tk \u001b[38;5;241m=\u001b[39m \u001b[38;5;28msuper\u001b[39m()\u001b[38;5;241m.\u001b[39mdoShow(tk)\n\u001b[0;32m--> 182\u001b[0m \u001b[38;5;28;43mself\u001b[39;49m\u001b[38;5;241;43m.\u001b[39;49m\u001b[43mfr\u001b[49m\u001b[38;5;241;43m.\u001b[39;49m\u001b[43mdoShow\u001b[49m(_tk)\n\u001b[1;32m    183\u001b[0m \u001b[38;5;28mself\u001b[39m\u001b[38;5;241m.\u001b[39mto\u001b[38;5;241m.\u001b[39mdoShow(_tk)\n\u001b[1;32m    184\u001b[0m \u001b[38;5;28mself\u001b[39m\u001b[38;5;241m.\u001b[39mstep\u001b[38;5;241m.\u001b[39mdoShow(_tk)\n",
      "\u001b[0;31mAttributeError\u001b[0m: 'int' object has no attribute 'doShow'"
     ]
    }
   ],
   "source": [
    "\n",
    "root = Tk()\n",
    "tk = LabelFrame(root, text=\"Prueba\", bg=\"#808090\")\n",
    "\n",
    "# c = C(440, nombre=\"Const\", tk=tk, show=True)\n",
    "# c.doShow()\n",
    "amp = Sine(C(30, show=True), \n",
    "           min=C(0), \n",
    "           max=C(1, show=True), \n",
    "           show=True)\n",
    "s = Sine(C(440, show=True), amp=amp, nombre=\"Seno\", show=True)\n",
    "s.doShow(tk)\n",
    "\n",
    "tk.pack(side=LEFT)\n",
    "\n",
    "# root.pack(side=TOP)\n",
    "input = s\n",
    "root.mainloop()\n",
    "input = None\n"
   ]
  }
 ],
 "metadata": {
  "kernelspec": {
   "display_name": "MUS",
   "language": "python",
   "name": "python3"
  },
  "language_info": {
   "codemirror_mode": {
    "name": "ipython",
    "version": 3
   },
   "file_extension": ".py",
   "mimetype": "text/x-python",
   "name": "python",
   "nbconvert_exporter": "python",
   "pygments_lexer": "ipython3",
   "version": "3.13.1"
  }
 },
 "nbformat": 4,
 "nbformat_minor": 2
}
