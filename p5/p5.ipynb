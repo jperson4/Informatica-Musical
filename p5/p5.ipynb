{
 "cells": [
  {
   "cell_type": "code",
   "execution_count": 1,
   "metadata": {},
   "outputs": [],
   "source": [
    "\n",
    "import sounddevice as sd\n",
    "import numpy as np\n",
    "import matplotlib.pyplot as plt\n",
    "from tkinter import *\n",
    "from tkinter import ttk\n",
    "import time\n",
    "from copy import copy\n",
    "import mido\n",
    "\n",
    "\n",
    "from synt.function import *\n",
    "from synt.const import *\n",
    "from synt.synt import *\n",
    "from synt.osc import *\n",
    "\n",
    "from synt.envolv import *\n",
    "from synt.effects import *\n",
    "from synt.instrumento import *\n",
    "from synt.mixer import *\n",
    "\n",
    "import os"
   ]
  },
  {
   "cell_type": "code",
   "execution_count": 2,
   "metadata": {},
   "outputs": [],
   "source": [
    "'''MOSTAR ONDAS COPIANDOLAS PARA QUE NO SE ALTERE EL FRAME'''\n",
    "from copy import copy\n",
    "def showOsc(osc, time, chunks=False):\n",
    "    _osc = copy(osc)\n",
    "    signal = np.zeros(0)\n",
    "    _chunks = int(time*(SRATE+CHUNK)/CHUNK)\n",
    "    if chunks:\n",
    "        _chunks = time\n",
    "    for i in range(_chunks):\n",
    "        signal = np.concatenate((signal, _osc.next()))\n",
    "    plt.plot(signal)"
   ]
  },
  {
   "cell_type": "code",
   "execution_count": 3,
   "metadata": {},
   "outputs": [],
   "source": [
    "'''REPRODUCTOR'''\n",
    "input = None\n",
    "\n",
    "def callback(outdata, frames, time, status):\n",
    "    global input\n",
    "    # print('entro')\n",
    "    if input is not None:\n",
    "        bloque = input.next()\n",
    "        # convertimos formato (CHUNK,) a (CHUNK,1) para que adecuarlo a sounddevice\n",
    "        outdata[:] = bloque.reshape(-1, 1)\n",
    "    else:\n",
    "        # si no hay datos, reproducimos silencio\n",
    "        outdata[:] = np.zeros((CHUNK, 1))\n",
    "\n",
    "\n",
    "# stream de salida con callBack\n",
    "stream = sd.OutputStream(samplerate=SRATE, channels=2, callback=callback, blocksize=CHUNK)\n",
    "stream.start()"
   ]
  },
  {
   "cell_type": "code",
   "execution_count": 4,
   "metadata": {},
   "outputs": [
    {
     "ename": "Exception",
     "evalue": "Para de ejecutar!!",
     "output_type": "error",
     "traceback": [
      "\u001b[0;31m---------------------------------------------------------------------------\u001b[0m",
      "\u001b[0;31mException\u001b[0m                                 Traceback (most recent call last)",
      "Cell \u001b[0;32mIn[4], line 1\u001b[0m\n\u001b[0;32m----> 1\u001b[0m \u001b[38;5;28;01mraise\u001b[39;00m \u001b[38;5;167;01mException\u001b[39;00m(\u001b[38;5;124m\"\u001b[39m\u001b[38;5;124mPara de ejecutar!!\u001b[39m\u001b[38;5;124m\"\u001b[39m) \u001b[38;5;66;03m#(comentar para ejecutar todo de una)\u001b[39;00m\n",
      "\u001b[0;31mException\u001b[0m: Para de ejecutar!!"
     ]
    }
   ],
   "source": [
    "raise Exception(\"Para de ejecutar!!\") #(comentar para ejecutar todo de una)"
   ]
  },
  {
   "cell_type": "code",
   "execution_count": null,
   "metadata": {},
   "outputs": [],
   "source": [
    "root = Tk()\n",
    "tk = LabelFrame(root, text=\"Prueba\", bg=\"#808090\")\n",
    "\n",
    "text = Text(tk,height=4,width=40)\n",
    "text.pack(side=BOTTOM)\n",
    "\n",
    "tk.pack(side=LEFT)\n",
    "\n",
    "slider=Scale(tk, from_=10, to=100, resolution=1., orient=HORIZONTAL, label=\"silder\", length=100)\n",
    "slider.set(55)\n",
    "slider.pack()\n",
    "\n",
    "root.mainloop()\n"
   ]
  },
  {
   "cell_type": "code",
   "execution_count": 6,
   "metadata": {},
   "outputs": [
    {
     "name": "stdout",
     "output_type": "stream",
     "text": [
      "Has introducido un Tk\n",
      "Has introducido un Tk\n",
      "Has introducido un Tk\n",
      "Has introducido un Tk\n",
      "Has introducido un Tk\n",
      "Has introducido un Tk\n"
     ]
    }
   ],
   "source": [
    "\n",
    "root = Tk()\n",
    "tk = LabelFrame(root, text=\"Prueba\", bg=\"#808090\")\n",
    "\n",
    "# c = C(440, nombre=\"Const\", tk=tk, show=True)\n",
    "# c.doShow()\n",
    "s = Sine(C(440, show=True), amp=C(1, show=True), tk=tk, nombre=\"Seno\", show=True)\n",
    "s.doShow()\n",
    "\n",
    "tk.pack(side=LEFT)\n",
    "# root.pack(side=TOP)\n",
    "input = s\n",
    "root.mainloop()\n",
    "input = None\n"
   ]
  }
 ],
 "metadata": {
  "kernelspec": {
   "display_name": "MUS",
   "language": "python",
   "name": "python3"
  },
  "language_info": {
   "codemirror_mode": {
    "name": "ipython",
    "version": 3
   },
   "file_extension": ".py",
   "mimetype": "text/x-python",
   "name": "python",
   "nbconvert_exporter": "python",
   "pygments_lexer": "ipython3",
   "version": "3.13.1"
  }
 },
 "nbformat": 4,
 "nbformat_minor": 2
}
