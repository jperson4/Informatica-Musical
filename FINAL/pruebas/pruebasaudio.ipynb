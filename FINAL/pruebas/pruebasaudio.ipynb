{
 "cells": [
  {
   "cell_type": "code",
   "execution_count": 4,
   "id": "eb8679b0",
   "metadata": {},
   "outputs": [],
   "source": [
    "from pyo import *"
   ]
  },
  {
   "cell_type": "markdown",
   "id": "430e6a57",
   "metadata": {},
   "source": []
  },
  {
   "cell_type": "code",
   "execution_count": 5,
   "id": "13ccfe88",
   "metadata": {},
   "outputs": [],
   "source": [
    "# constantes del sonido\n",
    "CHUNK = 1024  # Número de muestras por buffer\n",
    "SRATE = 44100  # Frecuencia de muestreo\n",
    "AMP = 0.1 # Amplitud general del sonido\n",
    "DEVICE_OUT = 6  # Dispositivo de audio a utilizar (puede cambiar según el sistema)\n",
    "DEVICE_IN = 6  # Dispositivo de audio a utilizar (puede cambiar según el sistema)"
   ]
  },
  {
   "cell_type": "code",
   "execution_count": 6,
   "id": "7ecd0d3a",
   "metadata": {},
   "outputs": [],
   "source": [
    "# Funcion para iniciar el servidor de audio\n",
    "def start_server():\n",
    "    server = Server(nchnls=1)\n",
    "    server.amp = AMP\n",
    "    server.setSamplingRate(SRATE)\n",
    "    server.setBufferSize(CHUNK)\n",
    "    server.setInputDevice(DEVICE_IN) # & = default\n",
    "    server.setOutputDevice(DEVICE_OUT) # & = default\n",
    "    server.setNchnls(1)  # Número de canales de salida aparentemente solo vale 1\n",
    "    server.boot()\n",
    "    # server.start()\n",
    "    return server"
   ]
  },
  {
   "cell_type": "code",
   "execution_count": 7,
   "id": "fdfadf5e",
   "metadata": {},
   "outputs": [
    {
     "ename": "Exception",
     "evalue": "Esta es una excepción lanzada intencionalmente.",
     "output_type": "error",
     "traceback": [
      "\u001b[31m---------------------------------------------------------------------------\u001b[39m",
      "\u001b[31mException\u001b[39m                                 Traceback (most recent call last)",
      "\u001b[36mCell\u001b[39m\u001b[36m \u001b[39m\u001b[32mIn[7]\u001b[39m\u001b[32m, line 1\u001b[39m\n\u001b[32m----> \u001b[39m\u001b[32m1\u001b[39m \u001b[38;5;28;01mraise\u001b[39;00m \u001b[38;5;167;01mException\u001b[39;00m(\u001b[33m\"\u001b[39m\u001b[33mEsta es una excepción lanzada intencionalmente.\u001b[39m\u001b[33m\"\u001b[39m)\n",
      "\u001b[31mException\u001b[39m: Esta es una excepción lanzada intencionalmente."
     ]
    }
   ],
   "source": [
    "raise Exception(\"Esta es una excepción lanzada intencionalmente.\")"
   ]
  },
  {
   "cell_type": "code",
   "execution_count": null,
   "id": "6e774c2c",
   "metadata": {},
   "outputs": [
    {
     "name": "stdout",
     "output_type": "stream",
     "text": [
      "AUDIO devices:\n",
      "0: OUT, name: HDA Intel HDMI: 0 (hw:0,3), host api index: 0, default sr: 44100 Hz, latency: 0.008707 s\n",
      "1: OUT, name: HDA Intel HDMI: 1 (hw:0,7), host api index: 0, default sr: 44100 Hz, latency: 0.008707 s\n",
      "2: OUT, name: HDA Intel HDMI: 2 (hw:0,8), host api index: 0, default sr: 44100 Hz, latency: 0.008707 s\n",
      "3: IN, name: HDA Intel PCH: ALC3235 Analog (hw:1,0), host api index: 0, default sr: 44100 Hz, latency: 0.008707 s\n",
      "4: OUT, name: hdmi, host api index: 0, default sr: 44100 Hz, latency: 0.008707 s\n",
      "5: IN, name: pulse, host api index: 0, default sr: 44100 Hz, latency: 0.008707 s\n",
      "5: OUT, name: pulse, host api index: 0, default sr: 44100 Hz, latency: 0.008707 s\n",
      "6: IN, name: default, host api index: 0, default sr: 44100 Hz, latency: 0.008707 s\n",
      "6: OUT, name: default, host api index: 0, default sr: 44100 Hz, latency: 0.008707 s\n",
      "\n"
     ]
    },
    {
     "name": "stderr",
     "output_type": "stream",
     "text": [
      "ALSA lib pcm_dsnoop.c:567:(snd_pcm_dsnoop_open) unable to open slave\n",
      "ALSA lib pcm_dmix.c:1000:(snd_pcm_dmix_open) unable to open slave\n",
      "ALSA lib pcm.c:2722:(snd_pcm_open_noupdate) Unknown PCM cards.pcm.rear\n",
      "ALSA lib pcm.c:2722:(snd_pcm_open_noupdate) Unknown PCM cards.pcm.center_lfe\n",
      "ALSA lib pcm.c:2722:(snd_pcm_open_noupdate) Unknown PCM cards.pcm.side\n",
      "Cannot connect to server socket err = No such file or directory\n",
      "Cannot connect to server request channel\n",
      "jack server is not running or cannot be started\n",
      "JackShmReadWritePtr::~JackShmReadWritePtr - Init not done for -1, skipping unlock\n",
      "JackShmReadWritePtr::~JackShmReadWritePtr - Init not done for -1, skipping unlock\n",
      "Cannot connect to server socket err = No such file or directory\n",
      "Cannot connect to server request channel\n",
      "jack server is not running or cannot be started\n",
      "JackShmReadWritePtr::~JackShmReadWritePtr - Init not done for -1, skipping unlock\n",
      "JackShmReadWritePtr::~JackShmReadWritePtr - Init not done for -1, skipping unlock\n",
      "ALSA lib pcm_oss.c:404:(_snd_pcm_oss_open) Cannot open device /dev/dsp\n",
      "ALSA lib pcm_oss.c:404:(_snd_pcm_oss_open) Cannot open device /dev/dsp\n",
      "ALSA lib pcm_a52.c:1036:(_snd_pcm_a52_open) a52 is only for playback\n",
      "ALSA lib confmisc.c:160:(snd_config_get_card) Invalid field card\n",
      "ALSA lib pcm_usb_stream.c:481:(_snd_pcm_usb_stream_open) Invalid card 'card'\n",
      "ALSA lib confmisc.c:160:(snd_config_get_card) Invalid field card\n",
      "ALSA lib pcm_usb_stream.c:481:(_snd_pcm_usb_stream_open) Invalid card 'card'\n",
      "ALSA lib pcm_dmix.c:1000:(snd_pcm_dmix_open) unable to open slave\n",
      "Cannot connect to server socket err = No such file or directory\n",
      "Cannot connect to server request channel\n",
      "jack server is not running or cannot be started\n",
      "JackShmReadWritePtr::~JackShmReadWritePtr - Init not done for -1, skipping unlock\n",
      "JackShmReadWritePtr::~JackShmReadWritePtr - Init not done for -1, skipping unlock\n"
     ]
    }
   ],
   "source": [
    "# mostar dispositivos de entrada y salida\n",
    "pa_list_devices()\n"
   ]
  },
  {
   "cell_type": "code",
   "execution_count": null,
   "id": "6bb492f6",
   "metadata": {},
   "outputs": [
    {
     "name": "stderr",
     "output_type": "stream",
     "text": [
      "ALSA lib pcm_dsnoop.c:567:(snd_pcm_dsnoop_open) unable to open slave\n",
      "ALSA lib pcm_dmix.c:1000:(snd_pcm_dmix_open) unable to open slave\n",
      "ALSA lib pcm.c:2722:(snd_pcm_open_noupdate) Unknown PCM cards.pcm.rear\n",
      "ALSA lib pcm.c:2722:(snd_pcm_open_noupdate) Unknown PCM cards.pcm.center_lfe\n",
      "ALSA lib pcm.c:2722:(snd_pcm_open_noupdate) Unknown PCM cards.pcm.side\n",
      "Cannot connect to server socket err = No such file or directory\n",
      "Cannot connect to server request channel\n",
      "jack server is not running or cannot be started\n",
      "JackShmReadWritePtr::~JackShmReadWritePtr - Init not done for -1, skipping unlock\n",
      "JackShmReadWritePtr::~JackShmReadWritePtr - Init not done for -1, skipping unlock\n",
      "Cannot connect to server socket err = No such file or directory\n",
      "Cannot connect to server request channel\n",
      "jack server is not running or cannot be started\n",
      "JackShmReadWritePtr::~JackShmReadWritePtr - Init not done for -1, skipping unlock\n",
      "JackShmReadWritePtr::~JackShmReadWritePtr - Init not done for -1, skipping unlock\n",
      "ALSA lib pcm_oss.c:404:(_snd_pcm_oss_open) Cannot open device /dev/dsp\n",
      "ALSA lib pcm_oss.c:404:(_snd_pcm_oss_open) Cannot open device /dev/dsp\n",
      "ALSA lib pcm_a52.c:1036:(_snd_pcm_a52_open) a52 is only for playback\n",
      "ALSA lib confmisc.c:160:(snd_config_get_card) Invalid field card\n",
      "ALSA lib pcm_usb_stream.c:481:(_snd_pcm_usb_stream_open) Invalid card 'card'\n",
      "ALSA lib confmisc.c:160:(snd_config_get_card) Invalid field card\n",
      "ALSA lib pcm_usb_stream.c:481:(_snd_pcm_usb_stream_open) Invalid card 'card'\n",
      "ALSA lib pcm_dmix.c:1000:(snd_pcm_dmix_open) unable to open slave\n",
      "Cannot connect to server socket err = No such file or directory\n",
      "Cannot connect to server request channel\n",
      "jack server is not running or cannot be started\n",
      "JackShmReadWritePtr::~JackShmReadWritePtr - Init not done for -1, skipping unlock\n",
      "JackShmReadWritePtr::~JackShmReadWritePtr - Init not done for -1, skipping unlock\n"
     ]
    }
   ],
   "source": [
    "# Ejemplo mega simple de una onda FM en pyo\n",
    "server = start_server()\n",
    "freq = Sine(10, mul=0.5)\n",
    "onda = Sine(440, mul=0.1, phase=freq).out() # crear una onda de 440 Hz modulada por una onda de 10 Hz\n",
    "sc = Scope(onda) # crear un osciloscopio para ver la onda\n",
    "server.gui(locals())"
   ]
  },
  {
   "cell_type": "code",
   "execution_count": 8,
   "id": "b9ddc65a",
   "metadata": {},
   "outputs": [
    {
     "name": "stderr",
     "output_type": "stream",
     "text": [
      "ALSA lib pcm_dsnoop.c:567:(snd_pcm_dsnoop_open) unable to open slave\n",
      "ALSA lib pcm_dmix.c:1000:(snd_pcm_dmix_open) unable to open slave\n",
      "ALSA lib pcm.c:2722:(snd_pcm_open_noupdate) Unknown PCM cards.pcm.rear\n",
      "ALSA lib pcm.c:2722:(snd_pcm_open_noupdate) Unknown PCM cards.pcm.center_lfe\n",
      "ALSA lib pcm.c:2722:(snd_pcm_open_noupdate) Unknown PCM cards.pcm.side\n",
      "Cannot connect to server socket err = No such file or directory\n",
      "Cannot connect to server request channel\n",
      "jack server is not running or cannot be started\n",
      "JackShmReadWritePtr::~JackShmReadWritePtr - Init not done for -1, skipping unlock\n",
      "JackShmReadWritePtr::~JackShmReadWritePtr - Init not done for -1, skipping unlock\n",
      "Cannot connect to server socket err = No such file or directory\n",
      "Cannot connect to server request channel\n",
      "jack server is not running or cannot be started\n",
      "JackShmReadWritePtr::~JackShmReadWritePtr - Init not done for -1, skipping unlock\n",
      "JackShmReadWritePtr::~JackShmReadWritePtr - Init not done for -1, skipping unlock\n",
      "ALSA lib pcm_oss.c:404:(_snd_pcm_oss_open) Cannot open device /dev/dsp\n",
      "ALSA lib pcm_oss.c:404:(_snd_pcm_oss_open) Cannot open device /dev/dsp\n",
      "ALSA lib pcm_a52.c:1036:(_snd_pcm_a52_open) a52 is only for playback\n",
      "ALSA lib confmisc.c:160:(snd_config_get_card) Invalid field card\n",
      "ALSA lib pcm_usb_stream.c:481:(_snd_pcm_usb_stream_open) Invalid card 'card'\n",
      "ALSA lib confmisc.c:160:(snd_config_get_card) Invalid field card\n",
      "ALSA lib pcm_usb_stream.c:481:(_snd_pcm_usb_stream_open) Invalid card 'card'\n",
      "ALSA lib pcm_dmix.c:1000:(snd_pcm_dmix_open) unable to open slave\n",
      "Cannot connect to server socket err = No such file or directory\n",
      "Cannot connect to server request channel\n",
      "jack server is not running or cannot be started\n",
      "JackShmReadWritePtr::~JackShmReadWritePtr - Init not done for -1, skipping unlock\n",
      "JackShmReadWritePtr::~JackShmReadWritePtr - Init not done for -1, skipping unlock\n"
     ]
    },
    {
     "name": "stdout",
     "output_type": "stream",
     "text": [
      "Pyo error: Server already booted!\n"
     ]
    },
    {
     "ename": "",
     "evalue": "",
     "output_type": "error",
     "traceback": [
      "\u001b[1;31mEl kernel se bloqueó al ejecutar código en la celda actual o en una celda anterior. \n",
      "\u001b[1;31mRevise el código de las celdas para identificar una posible causa del error. \n",
      "\u001b[1;31mHaga clic <a href='https://aka.ms/vscodeJupyterKernelCrash'>aquí</a> para obtener más información. \n",
      "\u001b[1;31mVea Jupyter <a href='command:jupyter.viewOutput'>log</a> para obtener más detalles."
     ]
    }
   ],
   "source": [
    "from pyo import *\n",
    "from random import random\n",
    "\n",
    "\n",
    "class Synth:\n",
    "    def __init__(self, transpo=1, mul=1):\n",
    "        # Transposition factor.\n",
    "        self.transpo = Sig(transpo)\n",
    "        # Receive midi notes, convert pitch to Hz and manage 10 voices of polyphony.\n",
    "        self.note = Notein(poly=10, scale=1, first=0, last=127)\n",
    "\n",
    "        # Handle pitch and velocity (Notein outputs normalized amplitude (0 -> 1)).\n",
    "        self.pit = self.note[\"pitch\"] * self.transpo\n",
    "        self.amp = MidiAdsr(self.note[\"velocity\"], attack=0.001, decay=0.1, sustain=0.7, release=1, mul=0.1,)\n",
    "\n",
    "        # Anti-aliased stereo square waves, mixed from 10 streams to 1 stream\n",
    "        # to avoid channel alternation on new notes.\n",
    "        self.osc1 = LFO(self.pit, sharp=0.5, type=2, mul=self.amp).mix(1)\n",
    "        self.osc2 = LFO(self.pit * 0.997, sharp=0.5, type=2, mul=self.amp).mix(1)\n",
    "\n",
    "        # Stereo mix.\n",
    "        self.mix = Mix([self.osc1, self.osc2], voices=2)\n",
    "\n",
    "        # High frequencies damping.\n",
    "        self.damp = ButLP(self.mix, freq=5000)\n",
    "\n",
    "        # Moving notches, using two out-of-phase sine wave oscillators.\n",
    "        self.lfo = Sine(0.2, phase=[random(), random()]).range(250, 4000)\n",
    "        self.notch = ButBR(self.damp, self.lfo, mul=mul)\n",
    "\n",
    "    def out(self):\n",
    "        \"Sends the synth's signal to the audio output and return the object itself.\"\n",
    "        self.notch.out()\n",
    "        return self\n",
    "\n",
    "    def sig(self):\n",
    "        \"Returns the synth's signal for future processing.\"\n",
    "        return self.notch\n",
    "\n",
    "\n",
    "s = start_server()\n",
    "s.setMidiInputDevice(99)  # Open all input devices.\n",
    "s.boot()\n",
    "\n",
    "# Create the midi synth.\n",
    "a1 = Synth()\n",
    "\n",
    "# Send the synth's signal into a reverb processor.\n",
    "rev = STRev(a1.sig(), inpos=[0.1, 0.9], revtime=2, cutoff=4000, bal=0.15).out()\n",
    "\n",
    "# It's very easy to double the synth sound!\n",
    "# One octave lower and directly sent to the audio output.\n",
    "a2 = Synth(transpo=0.5, mul=0.7).out()\n",
    "\n",
    "s.gui(locals())"
   ]
  }
 ],
 "metadata": {
  "kernelspec": {
   "display_name": "Python 3",
   "language": "python",
   "name": "python3"
  },
  "language_info": {
   "codemirror_mode": {
    "name": "ipython",
    "version": 3
   },
   "file_extension": ".py",
   "mimetype": "text/x-python",
   "name": "python",
   "nbconvert_exporter": "python",
   "pygments_lexer": "ipython3",
   "version": "3.13.3"
  }
 },
 "nbformat": 4,
 "nbformat_minor": 5
}
