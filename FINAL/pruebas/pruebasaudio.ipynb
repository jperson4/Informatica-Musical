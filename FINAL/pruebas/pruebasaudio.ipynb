{
 "cells": [
  {
   "cell_type": "code",
   "execution_count": 3,
   "id": "a6a522e2",
   "metadata": {},
   "outputs": [],
   "source": [
    "from pyo import *"
   ]
  },
  {
   "cell_type": "code",
   "execution_count": 4,
   "id": "4559a48c",
   "metadata": {},
   "outputs": [],
   "source": [
    "CHUNK = 1024  # Número de muestras por buffer\n",
    "SRATE = 44100  # Frecuencia de muestreo\n",
    "AMP = 0.1 # Amplitud general del sonido\n",
    "DEVICE_OUT = 6  # Dispositivo de audio a utilizar (puede cambiar según el sistema)\n",
    "DEVICE_IN = 6  # Dispositivo de audio a utilizar (puede cambiar según el sistema)\n",
    "\n",
    "def start_server():\n",
    "    \"\"\"Inicia el servidor de audio y lo configura.\"\"\"\n",
    "    server = Server(audio='alsa', nchnls=1)\n",
    "    server.amp = AMP\n",
    "    server.setSamplingRate(SRATE)\n",
    "    server.setBufferSize(CHUNK)\n",
    "    server.setInputDevice(DEVICE_IN) # & = default\n",
    "    server.setOutputDevice(DEVICE_OUT) # & = default\n",
    "    server.setNchnls(1)  # Número de canales de salida aparentemente solo vale 1\n",
    "    server.boot()\n",
    "    return server\n",
    "\n",
    "# s = start_server()"
   ]
  },
  {
   "cell_type": "code",
   "execution_count": null,
   "id": "b8dce503",
   "metadata": {},
   "outputs": [
    {
     "name": "stdout",
     "output_type": "stream",
     "text": [
      "Pyo warning: Unknown audio type. Using Portaudio\n",
      "Pyo warning: Portmidi warning: could not open midi input 1 (Midi Through Port-0): PortMidi: Invalid device ID\n",
      "Pyo warning: Portmidi warning: could not open midi output 0 (Midi Through Port-0): PortMidi: Invalid device ID\n",
      "Pyo warning: Portmidi closed.\n"
     ]
    }
   ],
   "source": [
    "s = start_server()\n",
    "snd = SndTable(SNDS_PATH + \"/transparent.aif\")\n",
    "env = HannTable()\n",
    "pos = Phasor(snd.getRate()*.25, 0, snd.getSize())\n",
    "dur = Noise(.001, .1)\n",
    "g = Granulator(snd, env, [1, 1.001], pos, dur, 24, mul=.1).out()\n",
    "s.gui(locals())"
   ]
  }
 ],
 "metadata": {
  "kernelspec": {
   "display_name": "Python 3",
   "language": "python",
   "name": "python3"
  },
  "language_info": {
   "codemirror_mode": {
    "name": "ipython",
    "version": 3
   },
   "file_extension": ".py",
   "mimetype": "text/x-python",
   "name": "python",
   "nbconvert_exporter": "python",
   "pygments_lexer": "ipython3",
   "version": "3.12.3"
  }
 },
 "nbformat": 4,
 "nbformat_minor": 5
}
